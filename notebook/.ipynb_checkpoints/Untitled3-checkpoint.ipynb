{
 "cells": [
  {
   "cell_type": "code",
   "execution_count": null,
   "id": "9d538e49",
   "metadata": {},
   "outputs": [
    {
     "name": "stdout",
     "output_type": "stream",
     "text": [
      "\n",
      "[?] Please select the class you want to review: Actinopterygii\n",
      " > Actinopterygii\n",
      "   Aves\n",
      "   Reptilia\n",
      "   Amphibia\n",
      "   Mammalia\n",
      "   Chondrichthyes\n",
      "   Myxini\n",
      "   Cephalaspidomorphi\n",
      "   Sarcopterygii\n"
     ]
    },
    {
     "name": "stderr",
     "output_type": "stream",
     "text": [
      "C:\\Users\\irene\\anaconda3\\envs\\ironhack\\lib\\site-packages\\blessed\\terminal.py:186: UserWarning: Failed to setupterm(kind='xterm-color'): Could not find terminal xterm-color\n",
      "  warnings.warn(msg)\n"
     ]
    }
   ],
   "source": [
    "import pandas as pd\n",
    "import inquirer\n",
    "questions = [inquirer.List('class',\n",
    "                           message=\"Please select the class you want to review\",\n",
    "                           choices=[\"Actinopterygii\",\"Aves\",\"Reptilia\",\"Amphibia\",\"Mammalia\",\"Chondrichthyes\",\"Myxini\",\"Cephalaspidomorphi\",\"Sarcopterygii\"],\n",
    "                          ),\n",
    "            ]\n",
    "\n",
    "answers = inquirer.prompt(questions)\n",
    "print (type(answers[\"size\"]))"
   ]
  },
  {
   "cell_type": "code",
   "execution_count": null,
   "id": "9a5c22c6",
   "metadata": {},
   "outputs": [],
   "source": []
  }
 ],
 "metadata": {
  "kernelspec": {
   "display_name": "Python [conda env:ironhack]",
   "language": "python",
   "name": "conda-env-ironhack-py"
  },
  "language_info": {
   "codemirror_mode": {
    "name": "ipython",
    "version": 3
   },
   "file_extension": ".py",
   "mimetype": "text/x-python",
   "name": "python",
   "nbconvert_exporter": "python",
   "pygments_lexer": "ipython3",
   "version": "3.7.11"
  }
 },
 "nbformat": 4,
 "nbformat_minor": 5
}
